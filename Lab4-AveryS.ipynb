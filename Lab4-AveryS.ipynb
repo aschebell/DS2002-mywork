{
 "cells": [
  {
   "cell_type": "markdown",
   "id": "487293e0",
   "metadata": {},
   "source": [
    "Lab 3.5\n",
    "Due: Sunday at 11:59 P.M. via Collab and GitHub\n",
    "\n",
    "Learning Objective\n",
    "1.\tPut into practice using Python to interact and call a public API successfully\n",
    "2.\tLook at the data within JSON and DataFrames\n",
    "3.\tWrite your data to a local file (JSON)\n",
    "4.\tUse basic visualization to display information\n",
    "5.\tInteract with users\n",
    "\n",
    "Challenge:\n",
    "You have seen some examples of how to interact with JSON, CSV and make API Calls. Take some time to explore the YAHOO Finance Guide https://syncwith.com/yahoo-finance/yahoo-finance-api which shows you endpoints for calling information. Your job is to code a Python Program that does the following things:\n",
    "\n",
    "1.\tTakes user input for a stock (using the Ticker Symbol): IE with the input() command\n",
    "2.\tYou will display back the user: Name Ticker, Full Name of the Stock, Current Price, Target Mean Price (target price from analysts), Cash on Hand, Profit Margins\n",
    "3.\tStore the Results Locally in JSON Format with just those items and include a date of when that data was pulled\n",
    "4.\tHandle Errors (IE, the stock doesn’t exist and/or the API is not returning information)\n",
    "\n",
    "You will have to read the documentation and figure out which modules to call to get the data that you need. You will need to make more than one call to this API. Use the examples in our Zoom Session to guide you, but the documentation will be enough. Post your code to GitHub.\n",
    "\n",
    "*figure out how to handle errors*\n",
    "\n",
    "\n",
    "Bonus –\n",
    "1.\tUse MatPlotLib to chart the historical price of a stock price’s highest value over the past 5 days. \n"
   ]
  },
  {
   "cell_type": "code",
   "execution_count": 1,
   "id": "c9ee6911",
   "metadata": {},
   "outputs": [],
   "source": [
    "import json\n",
    "import requests\n",
    "import pandas"
   ]
  },
  {
   "cell_type": "markdown",
   "id": "2c686b0d",
   "metadata": {},
   "source": [
    "# 1. Takes user input for a stock (using the Ticker Symbol): IE with the input() command"
   ]
  },
  {
   "cell_type": "code",
   "execution_count": null,
   "id": "fbc4a3b3",
   "metadata": {},
   "outputs": [],
   "source": [
    "# errors need to handle incorrect inputs"
   ]
  },
  {
   "cell_type": "code",
   "execution_count": 37,
   "id": "858225b4",
   "metadata": {},
   "outputs": [
    {
     "name": "stdout",
     "output_type": "stream",
     "text": [
      "AAPL\n"
     ]
    },
    {
     "data": {
      "text/plain": [
       "'AAPL'"
      ]
     },
     "execution_count": 37,
     "metadata": {},
     "output_type": "execute_result"
    }
   ],
   "source": [
    "stock = input() # this asks the user for a stock/ticker or something\n",
    "stock"
   ]
  },
  {
   "cell_type": "code",
   "execution_count": 55,
   "id": "26e4ddb0",
   "metadata": {},
   "outputs": [
    {
     "name": "stdout",
     "output_type": "stream",
     "text": [
      "AAPL\n"
     ]
    }
   ],
   "source": [
    "print(stock)"
   ]
  },
  {
   "cell_type": "markdown",
   "id": "220851da",
   "metadata": {},
   "source": [
    "# 2. You will display back the user: Name Ticker, Full Name of the Stock, Current Price, Target Mean Price (target price from analysts), Cash on Hand, Profit Margins"
   ]
  },
  {
   "cell_type": "code",
   "execution_count": 56,
   "id": "ec3a4eb3",
   "metadata": {},
   "outputs": [
    {
     "name": "stdout",
     "output_type": "stream",
     "text": [
      "{'symbols': 'AAPL'}\n"
     ]
    }
   ],
   "source": [
    "# step 1 set up url where is this endpoint \n",
    "# base url = 'https://query1.finance.yahoo.com/v7/finance/quote'\n",
    "urlQuote = 'https://query1.finance.yahoo.com/v7/finance/quote'\n",
    "querystring = {\"symbols\": stock}\n",
    "print(querystring)"
   ]
  },
  {
   "cell_type": "code",
   "execution_count": 57,
   "id": "13ad01ef",
   "metadata": {},
   "outputs": [],
   "source": [
    "# need to do a header otherwise its forbidden \n",
    "header_var ={'User-Agent': 'Mozilla/5.0 (Macintosh; Intel Mac OS X 10_10_1) AppleWebKit/537.36 (KHTML, like Gecko) Chrome/39.0.2171.95 Safari/537.36'}\n",
    "\n",
    "response = requests.request(\"GET\", urlQuote, headers = header_var, params=querystring)\n",
    "# response.content \n",
    "if (response.content == b'{\"quoteResponse\":{\"result\":[],\"error\":null}}'):\n",
    "    print(\"invalid ticket input\")\n",
    "else:\n",
    "    response.content"
   ]
  },
  {
   "cell_type": "code",
   "execution_count": 58,
   "id": "5c09a7f7",
   "metadata": {},
   "outputs": [
    {
     "data": {
      "text/plain": [
       "{'quoteResponse': {'result': [{'language': 'en-US',\n",
       "    'region': 'US',\n",
       "    'quoteType': 'EQUITY',\n",
       "    'typeDisp': 'Equity',\n",
       "    'quoteSourceName': 'Nasdaq Real Time Price',\n",
       "    'triggerable': True,\n",
       "    'customPriceAlertConfidence': 'HIGH',\n",
       "    'currency': 'USD',\n",
       "    'postMarketChangePercent': -0.216797,\n",
       "    'postMarketTime': 1665791999,\n",
       "    'postMarketPrice': 138.08,\n",
       "    'postMarketChange': -0.300003,\n",
       "    'regularMarketChange': -4.6100006,\n",
       "    'regularMarketTime': 1665777603,\n",
       "    'regularMarketDayHigh': 144.52,\n",
       "    'regularMarketDayRange': '138.19 - 144.52',\n",
       "    'regularMarketDayLow': 138.19,\n",
       "    'regularMarketVolume': 88597969,\n",
       "    'regularMarketPreviousClose': 142.99,\n",
       "    'bid': 138.06,\n",
       "    'ask': 138.08,\n",
       "    'bidSize': 9,\n",
       "    'askSize': 9,\n",
       "    'fullExchangeName': 'NasdaqGS',\n",
       "    'financialCurrency': 'USD',\n",
       "    'regularMarketOpen': 144.31,\n",
       "    'averageDailyVolume3Month': 81031121,\n",
       "    'averageDailyVolume10Day': 85997680,\n",
       "    'fiftyTwoWeekLowChange': 9.340012,\n",
       "    'fiftyTwoWeekLowChangePercent': 0.07238075,\n",
       "    'fiftyTwoWeekRange': '129.04 - 182.94',\n",
       "    'fiftyTwoWeekHighChange': -44.559998,\n",
       "    'fiftyTwoWeekHighChangePercent': -0.24357711,\n",
       "    'fiftyTwoWeekLow': 129.04,\n",
       "    'fiftyTwoWeekHigh': 182.94,\n",
       "    'dividendDate': 1660176000,\n",
       "    'earningsTimestamp': 1659038400,\n",
       "    'earningsTimestampStart': 1666814400,\n",
       "    'earningsTimestampEnd': 1667246400,\n",
       "    'trailingAnnualDividendRate': 0.89,\n",
       "    'trailingPE': 22.872726,\n",
       "    'trailingAnnualDividendYield': 0.0062242113,\n",
       "    'epsTrailingTwelveMonths': 6.05,\n",
       "    'epsForward': 6.47,\n",
       "    'epsCurrentYear': 6.11,\n",
       "    'priceEpsCurrentYear': 22.648119,\n",
       "    'marketState': 'CLOSED',\n",
       "    'exchange': 'NMS',\n",
       "    'shortName': 'Apple Inc.',\n",
       "    'longName': 'Apple Inc.',\n",
       "    'messageBoardId': 'finmb_24937',\n",
       "    'exchangeTimezoneName': 'America/New_York',\n",
       "    'exchangeTimezoneShortName': 'EDT',\n",
       "    'gmtOffSetMilliseconds': -14400000,\n",
       "    'market': 'us_market',\n",
       "    'esgPopulated': False,\n",
       "    'regularMarketChangePercent': -3.224002,\n",
       "    'regularMarketPrice': 138.38,\n",
       "    'firstTradeDateMilliseconds': 345479400000,\n",
       "    'priceHint': 2,\n",
       "    'sharesOutstanding': 16070800384,\n",
       "    'bookValue': 3.61,\n",
       "    'fiftyDayAverage': 156.3508,\n",
       "    'fiftyDayAverageChange': -17.970795,\n",
       "    'fiftyDayAverageChangePercent': -0.11493894,\n",
       "    'twoHundredDayAverage': 158.17775,\n",
       "    'twoHundredDayAverageChange': -19.797745,\n",
       "    'twoHundredDayAverageChangePercent': -0.12516138,\n",
       "    'marketCap': 2223877390336,\n",
       "    'forwardPE': 21.387945,\n",
       "    'priceToBook': 38.332413,\n",
       "    'sourceInterval': 15,\n",
       "    'exchangeDataDelayedBy': 0,\n",
       "    'averageAnalystRating': '1.9 - Buy',\n",
       "    'tradeable': False,\n",
       "    'cryptoTradeable': False,\n",
       "    'displayName': 'Apple',\n",
       "    'symbol': 'AAPL'}],\n",
       "  'error': None}}"
      ]
     },
     "execution_count": 58,
     "metadata": {},
     "output_type": "execute_result"
    }
   ],
   "source": [
    "stock_json = response.json()\n",
    "#if (stock_json['quoteResponse']['result'][0] == []):\n",
    "#    print(\"invalid ticket input\")\n",
    "#else:\n",
    "stock_json"
   ]
  },
  {
   "cell_type": "markdown",
   "id": "e475c6ec",
   "metadata": {},
   "source": [
    "# Full Name of the Stock"
   ]
  },
  {
   "cell_type": "code",
   "execution_count": 59,
   "id": "5d2c120d",
   "metadata": {},
   "outputs": [
    {
     "data": {
      "text/plain": [
       "'Apple Inc.'"
      ]
     },
     "execution_count": 59,
     "metadata": {},
     "output_type": "execute_result"
    }
   ],
   "source": [
    "fname = stock_json['quoteResponse']['result'][0]['longName']\n",
    "fname"
   ]
  },
  {
   "cell_type": "markdown",
   "id": "1d73dde2",
   "metadata": {},
   "source": [
    "# Name Ticker"
   ]
  },
  {
   "cell_type": "code",
   "execution_count": 60,
   "id": "41284b55",
   "metadata": {},
   "outputs": [
    {
     "data": {
      "text/plain": [
       "'AAPL'"
      ]
     },
     "execution_count": 60,
     "metadata": {},
     "output_type": "execute_result"
    }
   ],
   "source": [
    "ntick = stock_json['quoteResponse']['result'][0]['symbol']\n",
    "ntick"
   ]
  },
  {
   "cell_type": "code",
   "execution_count": 61,
   "id": "245b4955",
   "metadata": {},
   "outputs": [
    {
     "data": {
      "text/plain": [
       "{'quoteSummary': {'result': [{'financialData': {'maxAge': 86400,\n",
       "     'currentPrice': {'raw': 138.38, 'fmt': '138.38'},\n",
       "     'targetHighPrice': {'raw': 220.0, 'fmt': '220.00'},\n",
       "     'targetLowPrice': {'raw': 130.0, 'fmt': '130.00'},\n",
       "     'targetMeanPrice': {'raw': 183.16, 'fmt': '183.16'},\n",
       "     'targetMedianPrice': {'raw': 185.0, 'fmt': '185.00'},\n",
       "     'recommendationMean': {'raw': 1.9, 'fmt': '1.90'},\n",
       "     'recommendationKey': 'buy',\n",
       "     'numberOfAnalystOpinions': {'raw': 41, 'fmt': '41', 'longFmt': '41'},\n",
       "     'totalCash': {'raw': 48230998016,\n",
       "      'fmt': '48.23B',\n",
       "      'longFmt': '48,230,998,016'},\n",
       "     'totalCashPerShare': {'raw': 3.001, 'fmt': '3'},\n",
       "     'ebitda': {'raw': 129556996096,\n",
       "      'fmt': '129.56B',\n",
       "      'longFmt': '129,556,996,096'},\n",
       "     'totalDebt': {'raw': 119691001856,\n",
       "      'fmt': '119.69B',\n",
       "      'longFmt': '119,691,001,856'},\n",
       "     'quickRatio': {'raw': 0.697, 'fmt': '0.70'},\n",
       "     'currentRatio': {'raw': 0.865, 'fmt': '0.87'},\n",
       "     'totalRevenue': {'raw': 387541991424,\n",
       "      'fmt': '387.54B',\n",
       "      'longFmt': '387,541,991,424'},\n",
       "     'debtToEquity': {'raw': 205.984, 'fmt': '205.98'},\n",
       "     'revenuePerShare': {'raw': 23.732, 'fmt': '23.73'},\n",
       "     'returnOnAssets': {'raw': 0.22204, 'fmt': '22.20%'},\n",
       "     'returnOnEquity': {'raw': 1.62816, 'fmt': '162.82%'},\n",
       "     'grossProfits': {'raw': 152836000000,\n",
       "      'fmt': '152.84B',\n",
       "      'longFmt': '152,836,000,000'},\n",
       "     'freeCashflow': {'raw': 83344621568,\n",
       "      'fmt': '83.34B',\n",
       "      'longFmt': '83,344,621,568'},\n",
       "     'operatingCashflow': {'raw': 118224003072,\n",
       "      'fmt': '118.22B',\n",
       "      'longFmt': '118,224,003,072'},\n",
       "     'earningsGrowth': {'raw': -0.077, 'fmt': '-7.70%'},\n",
       "     'revenueGrowth': {'raw': 0.019, 'fmt': '1.90%'},\n",
       "     'grossMargins': {'raw': 0.43313998, 'fmt': '43.31%'},\n",
       "     'ebitdaMargins': {'raw': 0.3343, 'fmt': '33.43%'},\n",
       "     'operatingMargins': {'raw': 0.30533, 'fmt': '30.53%'},\n",
       "     'profitMargins': {'raw': 0.25709, 'fmt': '25.71%'},\n",
       "     'financialCurrency': 'USD'}}],\n",
       "  'error': None}}"
      ]
     },
     "execution_count": 61,
     "metadata": {},
     "output_type": "execute_result"
    }
   ],
   "source": [
    "url3 = \"https://query1.finance.yahoo.com/v11/finance/quoteSummary/\"\n",
    "query_str2 = {\"symbol\": stock, \"modules\":\"financialData\"}\n",
    "response = requests.request(\"GET\", url3, headers = header_var, params=query_str2)\n",
    "\n",
    "stock_json3 = response.json()\n",
    "stock_json3"
   ]
  },
  {
   "cell_type": "markdown",
   "id": "d493028c",
   "metadata": {},
   "source": [
    "# Current Price"
   ]
  },
  {
   "cell_type": "code",
   "execution_count": 62,
   "id": "70705196",
   "metadata": {},
   "outputs": [
    {
     "data": {
      "text/plain": [
       "'138.38'"
      ]
     },
     "execution_count": 62,
     "metadata": {},
     "output_type": "execute_result"
    }
   ],
   "source": [
    "cprice = stock_json3['quoteSummary']['result'][0]['financialData']['currentPrice']['fmt']\n",
    "cprice"
   ]
  },
  {
   "cell_type": "markdown",
   "id": "10e2d4ef",
   "metadata": {},
   "source": [
    "# Target Mean Price (target price from analysts),"
   ]
  },
  {
   "cell_type": "code",
   "execution_count": 63,
   "id": "7dd27143",
   "metadata": {},
   "outputs": [
    {
     "data": {
      "text/plain": [
       "'183.16'"
      ]
     },
     "execution_count": 63,
     "metadata": {},
     "output_type": "execute_result"
    }
   ],
   "source": [
    "tmp = stock_json3['quoteSummary']['result'][0]['financialData']['targetMeanPrice']['fmt'] #use financialData\n",
    "tmp"
   ]
  },
  {
   "cell_type": "markdown",
   "id": "758bb2e2",
   "metadata": {},
   "source": [
    "# Cash on Hand"
   ]
  },
  {
   "cell_type": "code",
   "execution_count": 64,
   "id": "e206cde2",
   "metadata": {},
   "outputs": [
    {
     "data": {
      "text/plain": [
       "'48.23B'"
      ]
     },
     "execution_count": 64,
     "metadata": {},
     "output_type": "execute_result"
    }
   ],
   "source": [
    "coh = stock_json3['quoteSummary']['result'][0]['financialData']['totalCash']['fmt']\n",
    "coh"
   ]
  },
  {
   "cell_type": "markdown",
   "id": "9f7d1e90",
   "metadata": {},
   "source": [
    "# Profit Margins"
   ]
  },
  {
   "cell_type": "code",
   "execution_count": 65,
   "id": "5cc266ed",
   "metadata": {},
   "outputs": [
    {
     "data": {
      "text/plain": [
       "'25.71%'"
      ]
     },
     "execution_count": 65,
     "metadata": {},
     "output_type": "execute_result"
    }
   ],
   "source": [
    "pmargins = stock_json3['quoteSummary']['result'][0]['financialData']['profitMargins']['fmt']\n",
    "pmargins"
   ]
  },
  {
   "cell_type": "code",
   "execution_count": 66,
   "id": "b6368de2",
   "metadata": {},
   "outputs": [
    {
     "data": {
      "text/plain": [
       "{'Name of Ticker': 'AAPL',\n",
       " 'Full Name of Stock': 'Apple Inc.',\n",
       " 'Current Price': '138.38',\n",
       " 'Target Price Mean': '183.16',\n",
       " 'Cash on Hand': '48.23B',\n",
       " 'Profit Margins': '25.71%'}"
      ]
     },
     "execution_count": 66,
     "metadata": {},
     "output_type": "execute_result"
    }
   ],
   "source": [
    "answers = {\"Name of Ticker\": ntick, \"Full Name of Stock\": fname, \"Current Price\": cprice, \"Target Price Mean\": tmp, \"Cash on Hand\": coh, \"Profit Margins\": pmargins}\n",
    "answers"
   ]
  },
  {
   "cell_type": "markdown",
   "id": "9b781cc5",
   "metadata": {},
   "source": [
    "# 3. Store the Results Locally in JSON Format with just those items and include a date of when that data was pulled"
   ]
  },
  {
   "cell_type": "code",
   "execution_count": 67,
   "id": "a823868c",
   "metadata": {},
   "outputs": [
    {
     "name": "stdout",
     "output_type": "stream",
     "text": [
      "Lab4 json file from yahoo finance data\n"
     ]
    }
   ],
   "source": [
    "#with open('readme.txt', 'w') as f:\n",
    "#    f.write('readme')\n",
    "with open('ASLab4.json', 'w') as f:\n",
    "    json.dump(answers, f, indent=2)\n",
    "    print(\"Lab4 json file from yahoo finance data\")"
   ]
  }
 ],
 "metadata": {
  "kernelspec": {
   "display_name": "Python 3 (ipykernel)",
   "language": "python",
   "name": "python3"
  },
  "language_info": {
   "codemirror_mode": {
    "name": "ipython",
    "version": 3
   },
   "file_extension": ".py",
   "mimetype": "text/x-python",
   "name": "python",
   "nbconvert_exporter": "python",
   "pygments_lexer": "ipython3",
   "version": "3.7.11"
  }
 },
 "nbformat": 4,
 "nbformat_minor": 5
}
