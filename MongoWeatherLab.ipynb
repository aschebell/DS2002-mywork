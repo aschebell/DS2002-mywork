{
 "cells": [
  {
   "cell_type": "markdown",
   "id": "15510e1e",
   "metadata": {},
   "source": [
    "After completing the Lab you will:  \n",
    "- Create a python program that asks the user for weather in a zip code\n",
    "- The program will convert that to Long/Lat (there are websites/libraries/apis for this)\n",
    "- Scrape the 7 day forecast and display to the user\n",
    "- Display the current conditions - humidity, windspeed, Dewpoint and Last Update Time\n",
    "- Store the 7 day forecast in a MongoDB\n",
    "- Store the current conditions in a MongoDB\n",
    "\n"
   ]
  },
  {
   "cell_type": "markdown",
   "id": "7615bb5e",
   "metadata": {},
   "source": [
    "group: Avery Schebell (ajs6av); Amshala Bharathan (ab5sz); Mianchen Cao (mc7sq)\""
   ]
  },
  {
   "cell_type": "code",
   "execution_count": 69,
   "id": "c5d04a10",
   "metadata": {},
   "outputs": [],
   "source": [
    "import pandas as pd"
   ]
  },
  {
   "cell_type": "markdown",
   "id": "7881034f",
   "metadata": {},
   "source": [
    "- Create a python program that asks the user for weather in a zip code"
   ]
  },
  {
   "cell_type": "code",
   "execution_count": 176,
   "id": "bc369ca8",
   "metadata": {},
   "outputs": [
    {
     "name": "stdout",
     "output_type": "stream",
     "text": [
      "Enter Zip Code: 20171\n",
      "Zipcode: 20171\n"
     ]
    }
   ],
   "source": [
    "zipcode = input(\"Enter Zip Code: \")\n",
    "print(\"Zipcode: \" + zipcode)"
   ]
  },
  {
   "cell_type": "markdown",
   "id": "819030ca",
   "metadata": {},
   "source": [
    "- The program will convert that to Long/Lat (there are websites/libraries/apis for this)"
   ]
  },
  {
   "cell_type": "code",
   "execution_count": 177,
   "id": "a1a5d6b9",
   "metadata": {},
   "outputs": [
    {
     "name": "stdout",
     "output_type": "stream",
     "text": [
      "Fairfax, Virginia\n",
      "('38.9252', '-77.3928')\n"
     ]
    }
   ],
   "source": [
    "# https://pypi.org/project/pgeocode/\n",
    "# found this python library online that can give information based on country and zipcode \n",
    "import pgeocode\n",
    "nomi = pgeocode.Nominatim('us') #country code for US\n",
    "placename = str(nomi.query_postal_code(zipcode)[5])\n",
    "statename = str(nomi.query_postal_code(zipcode)[3])\n",
    "latitude = str(nomi.query_postal_code(zipcode)[9])  \n",
    "longitude = str(nomi.query_postal_code(zipcode)[10])  \n",
    "coordinates = (latitude, longitude)\n",
    "location = (placename + \", \" + statename)\n",
    "print(location)\n",
    "print(coordinates)"
   ]
  },
  {
   "cell_type": "markdown",
   "id": "e599adeb",
   "metadata": {},
   "source": [
    "- Scrape the 7 day forecast and display to the user"
   ]
  },
  {
   "cell_type": "code",
   "execution_count": 178,
   "id": "14396738",
   "metadata": {
    "scrolled": true
   },
   "outputs": [],
   "source": [
    "import requests\n",
    "from bs4 import BeautifulSoup\n",
    "page = requests.get(\"https://forecast.weather.gov/MapClick.php?lat=\"+latitude+\"&lon=\"+longitude)\n",
    "soup = BeautifulSoup(page.content, 'html.parser')\n",
    "seven_day = soup.find(id=\"seven-day-forecast\")\n",
    "forecast_items = seven_day.find_all(class_=\"tombstone-container\")\n",
    "tonight = forecast_items[0]\n",
    "#print(tonight.prettify())"
   ]
  },
  {
   "cell_type": "code",
   "execution_count": 179,
   "id": "e621f5e9",
   "metadata": {},
   "outputs": [],
   "source": [
    "period = tonight.find(class_=\"period-name\").get_text() \n",
    "short_desc = tonight.find(class_=\"short-desc\").get_text() \n",
    "temp = tonight.find(class_=\"temp\").get_text() \n",
    "#print(period)\n",
    "#print(short_desc) \n",
    "#print(temp)"
   ]
  },
  {
   "cell_type": "code",
   "execution_count": 180,
   "id": "c6321b3a",
   "metadata": {},
   "outputs": [],
   "source": [
    "img = tonight.find(\"img\") \n",
    "desc = img['title'] \n",
    "#print(desc)"
   ]
  },
  {
   "cell_type": "code",
   "execution_count": 181,
   "id": "5173b0ce",
   "metadata": {},
   "outputs": [],
   "source": [
    "period_tags = seven_day.select(\".tombstone-container .period-name\") \n",
    "periods = [pt.get_text() for pt in period_tags]\n",
    "#periods"
   ]
  },
  {
   "cell_type": "code",
   "execution_count": 182,
   "id": "44e42647",
   "metadata": {},
   "outputs": [],
   "source": [
    "short_descs = [sd.get_text() for sd in seven_day.select('.tombstone-container .short-desc')]\n",
    "temps = [t.get_text() for t in seven_day.select('.tombstone-container .temp')]\n",
    "descs = [d['title'] for d in seven_day.select('.tombstone-container img')]\n",
    "#print(short_descs,temps,descs)"
   ]
  },
  {
   "cell_type": "code",
   "execution_count": 183,
   "id": "2339c8d0",
   "metadata": {},
   "outputs": [
    {
     "data": {
      "text/html": [
       "<div>\n",
       "<style scoped>\n",
       "    .dataframe tbody tr th:only-of-type {\n",
       "        vertical-align: middle;\n",
       "    }\n",
       "\n",
       "    .dataframe tbody tr th {\n",
       "        vertical-align: top;\n",
       "    }\n",
       "\n",
       "    .dataframe thead th {\n",
       "        text-align: right;\n",
       "    }\n",
       "</style>\n",
       "<table border=\"1\" class=\"dataframe\">\n",
       "  <thead>\n",
       "    <tr style=\"text-align: right;\">\n",
       "      <th></th>\n",
       "      <th>period</th>\n",
       "      <th>short_desc</th>\n",
       "      <th>temp</th>\n",
       "      <th>desc</th>\n",
       "    </tr>\n",
       "  </thead>\n",
       "  <tbody>\n",
       "    <tr>\n",
       "      <th>0</th>\n",
       "      <td>Tonight</td>\n",
       "      <td>Mostly Clear</td>\n",
       "      <td>Low: 31 °F</td>\n",
       "      <td>Tonight: Mostly clear, with a low around 31. N...</td>\n",
       "    </tr>\n",
       "    <tr>\n",
       "      <th>1</th>\n",
       "      <td>Monday</td>\n",
       "      <td>Sunny</td>\n",
       "      <td>High: 47 °F</td>\n",
       "      <td>Tonight: Mostly clear, with a low around 31. N...</td>\n",
       "    </tr>\n",
       "    <tr>\n",
       "      <th>2</th>\n",
       "      <td>MondayNight</td>\n",
       "      <td>Mostly Clear</td>\n",
       "      <td>Low: 30 °F</td>\n",
       "      <td>Tonight: Mostly clear, with a low around 31. N...</td>\n",
       "    </tr>\n",
       "    <tr>\n",
       "      <th>3</th>\n",
       "      <td>Tuesday</td>\n",
       "      <td>Slight ChanceRain thenRain</td>\n",
       "      <td>High: 46 °F</td>\n",
       "      <td>Tonight: Mostly clear, with a low around 31. N...</td>\n",
       "    </tr>\n",
       "    <tr>\n",
       "      <th>4</th>\n",
       "      <td>TuesdayNight</td>\n",
       "      <td>Rain</td>\n",
       "      <td>Low: 39 °F</td>\n",
       "      <td>Tonight: Mostly clear, with a low around 31. N...</td>\n",
       "    </tr>\n",
       "    <tr>\n",
       "      <th>5</th>\n",
       "      <td>Wednesday</td>\n",
       "      <td>Partly Sunny</td>\n",
       "      <td>High: 51 °F</td>\n",
       "      <td>Tonight: Mostly clear, with a low around 31. N...</td>\n",
       "    </tr>\n",
       "    <tr>\n",
       "      <th>6</th>\n",
       "      <td>WednesdayNight</td>\n",
       "      <td>Mostly Clear</td>\n",
       "      <td>Low: 32 °F</td>\n",
       "      <td>Tonight: Mostly clear, with a low around 31. N...</td>\n",
       "    </tr>\n",
       "    <tr>\n",
       "      <th>7</th>\n",
       "      <td>Thursday</td>\n",
       "      <td>Sunny</td>\n",
       "      <td>High: 44 °F</td>\n",
       "      <td>Tonight: Mostly clear, with a low around 31. N...</td>\n",
       "    </tr>\n",
       "    <tr>\n",
       "      <th>8</th>\n",
       "      <td>ThursdayNight</td>\n",
       "      <td>Mostly Clear</td>\n",
       "      <td>Low: 26 °F</td>\n",
       "      <td>Tonight: Mostly clear, with a low around 31. N...</td>\n",
       "    </tr>\n",
       "  </tbody>\n",
       "</table>\n",
       "</div>"
      ],
      "text/plain": [
       "           period                  short_desc         temp  \\\n",
       "0         Tonight                Mostly Clear   Low: 31 °F   \n",
       "1          Monday                       Sunny  High: 47 °F   \n",
       "2     MondayNight                Mostly Clear   Low: 30 °F   \n",
       "3         Tuesday  Slight ChanceRain thenRain  High: 46 °F   \n",
       "4    TuesdayNight                        Rain   Low: 39 °F   \n",
       "5       Wednesday                Partly Sunny  High: 51 °F   \n",
       "6  WednesdayNight                Mostly Clear   Low: 32 °F   \n",
       "7        Thursday                       Sunny  High: 44 °F   \n",
       "8   ThursdayNight                Mostly Clear   Low: 26 °F   \n",
       "\n",
       "                                                desc  \n",
       "0  Tonight: Mostly clear, with a low around 31. N...  \n",
       "1  Tonight: Mostly clear, with a low around 31. N...  \n",
       "2  Tonight: Mostly clear, with a low around 31. N...  \n",
       "3  Tonight: Mostly clear, with a low around 31. N...  \n",
       "4  Tonight: Mostly clear, with a low around 31. N...  \n",
       "5  Tonight: Mostly clear, with a low around 31. N...  \n",
       "6  Tonight: Mostly clear, with a low around 31. N...  \n",
       "7  Tonight: Mostly clear, with a low around 31. N...  \n",
       "8  Tonight: Mostly clear, with a low around 31. N...  "
      ]
     },
     "execution_count": 183,
     "metadata": {},
     "output_type": "execute_result"
    }
   ],
   "source": [
    "weatherdf = pd.DataFrame({\n",
    "    \"period\": periods,\n",
    "    \"short_desc\": short_descs,\n",
    "    \"temp\": temps,\n",
    "    \"desc\": desc\n",
    "})\n",
    "weatherdf"
   ]
  },
  {
   "cell_type": "code",
   "execution_count": 184,
   "id": "7311fa2a",
   "metadata": {},
   "outputs": [],
   "source": [
    "temp_nums = weather[\"temp\"].str.extract(\"(?P<temp_num>\\d+)\", expand=False) \n",
    "weather[\"temp_num\"] = temp_nums.astype('int')\n",
    "#temp_nums"
   ]
  },
  {
   "cell_type": "code",
   "execution_count": 185,
   "id": "048658fd",
   "metadata": {},
   "outputs": [],
   "source": [
    "#weather[\"temp_num\"].mean()"
   ]
  },
  {
   "cell_type": "code",
   "execution_count": 186,
   "id": "0b121897",
   "metadata": {},
   "outputs": [
    {
     "data": {
      "text/html": [
       "<div>\n",
       "<style scoped>\n",
       "    .dataframe tbody tr th:only-of-type {\n",
       "        vertical-align: middle;\n",
       "    }\n",
       "\n",
       "    .dataframe tbody tr th {\n",
       "        vertical-align: top;\n",
       "    }\n",
       "\n",
       "    .dataframe thead th {\n",
       "        text-align: right;\n",
       "    }\n",
       "</style>\n",
       "<table border=\"1\" class=\"dataframe\">\n",
       "  <thead>\n",
       "    <tr style=\"text-align: right;\">\n",
       "      <th></th>\n",
       "      <th>period</th>\n",
       "      <th>short_desc</th>\n",
       "      <th>temp</th>\n",
       "      <th>desc</th>\n",
       "      <th>temp_num</th>\n",
       "      <th>is_night</th>\n",
       "    </tr>\n",
       "  </thead>\n",
       "  <tbody>\n",
       "    <tr>\n",
       "      <th>1</th>\n",
       "      <td>Tonight</td>\n",
       "      <td>Clear</td>\n",
       "      <td>Low: 30 °F</td>\n",
       "      <td>This Afternoon: Sunny, with a high near 55. No...</td>\n",
       "      <td>30</td>\n",
       "      <td>True</td>\n",
       "    </tr>\n",
       "    <tr>\n",
       "      <th>3</th>\n",
       "      <td>MondayNight</td>\n",
       "      <td>Partly Cloudy</td>\n",
       "      <td>Low: 32 °F</td>\n",
       "      <td>This Afternoon: Sunny, with a high near 55. No...</td>\n",
       "      <td>32</td>\n",
       "      <td>True</td>\n",
       "    </tr>\n",
       "    <tr>\n",
       "      <th>5</th>\n",
       "      <td>TuesdayNight</td>\n",
       "      <td>Rain</td>\n",
       "      <td>Low: 42 °F</td>\n",
       "      <td>This Afternoon: Sunny, with a high near 55. No...</td>\n",
       "      <td>42</td>\n",
       "      <td>True</td>\n",
       "    </tr>\n",
       "    <tr>\n",
       "      <th>7</th>\n",
       "      <td>WednesdayNight</td>\n",
       "      <td>Partly Cloudy</td>\n",
       "      <td>Low: 34 °F</td>\n",
       "      <td>This Afternoon: Sunny, with a high near 55. No...</td>\n",
       "      <td>34</td>\n",
       "      <td>True</td>\n",
       "    </tr>\n",
       "  </tbody>\n",
       "</table>\n",
       "</div>"
      ],
      "text/plain": [
       "           period     short_desc        temp  \\\n",
       "1         Tonight          Clear  Low: 30 °F   \n",
       "3     MondayNight  Partly Cloudy  Low: 32 °F   \n",
       "5    TuesdayNight           Rain  Low: 42 °F   \n",
       "7  WednesdayNight  Partly Cloudy  Low: 34 °F   \n",
       "\n",
       "                                                desc  temp_num  is_night  \n",
       "1  This Afternoon: Sunny, with a high near 55. No...        30      True  \n",
       "3  This Afternoon: Sunny, with a high near 55. No...        32      True  \n",
       "5  This Afternoon: Sunny, with a high near 55. No...        42      True  \n",
       "7  This Afternoon: Sunny, with a high near 55. No...        34      True  "
      ]
     },
     "execution_count": 186,
     "metadata": {},
     "output_type": "execute_result"
    }
   ],
   "source": [
    "is_night = weather[\"temp\"].str.contains(\"Low\") \n",
    "weather[\"is_night\"] = is_night\n",
    "is_night\n",
    "weather[is_night]"
   ]
  },
  {
   "cell_type": "markdown",
   "id": "93d46a93",
   "metadata": {},
   "source": [
    "- Display the current conditions - humidity, windspeed, Dewpoint and Last Update Time"
   ]
  },
  {
   "cell_type": "code",
   "execution_count": 187,
   "id": "8ae1862c",
   "metadata": {},
   "outputs": [
    {
     "data": {
      "text/html": [
       "<div>\n",
       "<style scoped>\n",
       "    .dataframe tbody tr th:only-of-type {\n",
       "        vertical-align: middle;\n",
       "    }\n",
       "\n",
       "    .dataframe tbody tr th {\n",
       "        vertical-align: top;\n",
       "    }\n",
       "\n",
       "    .dataframe thead th {\n",
       "        text-align: right;\n",
       "    }\n",
       "</style>\n",
       "<table border=\"1\" class=\"dataframe\">\n",
       "  <thead>\n",
       "    <tr style=\"text-align: right;\">\n",
       "      <th></th>\n",
       "      <th>Location</th>\n",
       "      <th>Humidity</th>\n",
       "      <th>Wind Speed</th>\n",
       "      <th>Dewpoint</th>\n",
       "      <th>Last Update Time</th>\n",
       "    </tr>\n",
       "  </thead>\n",
       "  <tbody>\n",
       "    <tr>\n",
       "      <th>0</th>\n",
       "      <td>Fairfax, Virginia</td>\n",
       "      <td>51%</td>\n",
       "      <td>W 5 mph</td>\n",
       "      <td>23°F (-5°C)</td>\n",
       "      <td>13 Nov 7:52 pm EST</td>\n",
       "    </tr>\n",
       "  </tbody>\n",
       "</table>\n",
       "</div>"
      ],
      "text/plain": [
       "            Location Humidity Wind Speed     Dewpoint    Last Update Time\n",
       "0  Fairfax, Virginia      51%    W 5 mph  23°F (-5°C)  13 Nov 7:52 pm EST"
      ]
     },
     "execution_count": 187,
     "metadata": {},
     "output_type": "execute_result"
    }
   ],
   "source": [
    "current_conditions = soup.find(id=\"current_conditions_detail\")\n",
    "#print(current_conditions)\n",
    "soup = BeautifulSoup(page.content, 'html.parser')\n",
    "humidity = soup.find_all('td')[1].get_text()\n",
    "wind_speed = soup.find_all('td')[3].get_text()\n",
    "dewpoint = soup.find_all('td')[7].get_text()\n",
    "last_update_time = soup.find_all('td')[13].get_text().strip()\n",
    "current_condition_display =pd.DataFrame([[location,humidity,wind_speed,dewpoint,last_update_time]], columns=['Location', 'Humidity','Wind Speed','Dewpoint','Last Update Time'])\n",
    "current_condition_display"
   ]
  },
  {
   "cell_type": "code",
   "execution_count": null,
   "id": "cb245c2b",
   "metadata": {},
   "outputs": [],
   "source": []
  },
  {
   "cell_type": "markdown",
   "id": "ce534a47",
   "metadata": {},
   "source": [
    "- Store the 7 day forecast in a MongoDB"
   ]
  },
  {
   "cell_type": "code",
   "execution_count": 188,
   "id": "7254d107",
   "metadata": {},
   "outputs": [],
   "source": [
    "#import quandl\n",
    "import pymongo\n",
    "from pymongo import MongoClient"
   ]
  },
  {
   "cell_type": "code",
   "execution_count": 189,
   "id": "1c30e635",
   "metadata": {},
   "outputs": [],
   "source": [
    "# Making a Connection with MongoClient\n",
    "client = MongoClient(\"mongodb://localhost:27017/\")\n",
    "# database\n",
    "db = client[\"DS2002\"]\n",
    "# collection\n",
    "company = db[\"Location\"]"
   ]
  },
  {
   "cell_type": "code",
   "execution_count": 190,
   "id": "2a8caa29",
   "metadata": {},
   "outputs": [],
   "source": [
    "#db.list_collection_names()"
   ]
  },
  {
   "cell_type": "code",
   "execution_count": 191,
   "id": "9a589f77",
   "metadata": {},
   "outputs": [],
   "source": [
    "#posts = db.\n",
    "#post_id = posts.insert_one(post).inserted_id\n",
    "#print(\"Document ID: \", post_id)\n",
    "\n",
    "data_dict = weatherdf.to_dict()"
   ]
  },
  {
   "cell_type": "code",
   "execution_count": 192,
   "id": "90fbda68",
   "metadata": {},
   "outputs": [],
   "source": [
    "#company.insert_one({\"index\":\"Sensex\",\"data\":data_dict})"
   ]
  },
  {
   "cell_type": "code",
   "execution_count": 193,
   "id": "b8689f5a",
   "metadata": {},
   "outputs": [],
   "source": [
    "#db.lab5.insert_many(data_dict)"
   ]
  },
  {
   "cell_type": "code",
   "execution_count": 194,
   "id": "f66aaaee",
   "metadata": {},
   "outputs": [],
   "source": [
    "data_dict2 = current_condition_display. to_dict()\n",
    "#db.lab5.insert_many(data_dict2)"
   ]
  },
  {
   "cell_type": "code",
   "execution_count": null,
   "id": "b4cba39b",
   "metadata": {},
   "outputs": [],
   "source": []
  },
  {
   "cell_type": "code",
   "execution_count": null,
   "id": "67551b2a",
   "metadata": {},
   "outputs": [],
   "source": []
  },
  {
   "cell_type": "code",
   "execution_count": null,
   "id": "26ba48a3",
   "metadata": {},
   "outputs": [],
   "source": []
  },
  {
   "cell_type": "code",
   "execution_count": null,
   "id": "dd8cb2c3",
   "metadata": {},
   "outputs": [],
   "source": []
  },
  {
   "cell_type": "code",
   "execution_count": 108,
   "id": "9d285187",
   "metadata": {},
   "outputs": [],
   "source": [
    "weather.to_csv('weather.csv')\n",
    "current_condition_display.to_csv('current_conditions.csv')"
   ]
  },
  {
   "cell_type": "code",
   "execution_count": null,
   "id": "6579584b",
   "metadata": {},
   "outputs": [],
   "source": []
  }
 ],
 "metadata": {
  "kernelspec": {
   "display_name": "Python 3 (ipykernel)",
   "language": "python",
   "name": "python3"
  },
  "language_info": {
   "codemirror_mode": {
    "name": "ipython",
    "version": 3
   },
   "file_extension": ".py",
   "mimetype": "text/x-python",
   "name": "python",
   "nbconvert_exporter": "python",
   "pygments_lexer": "ipython3",
   "version": "3.7.11"
  }
 },
 "nbformat": 4,
 "nbformat_minor": 5
}
